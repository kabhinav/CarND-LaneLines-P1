{
 "cells": [
  {
   "cell_type": "markdown",
   "metadata": {
    "deletable": true,
    "editable": true
   },
   "source": [
    "# **Finding Lane Lines on the Road** \n",
    "***\n",
    "In this project, you will use the tools you learned about in the lesson to identify lane lines on the road.  You can develop your pipeline on a series of individual images, and later apply the result to a video stream (really just a series of images). Check out the video clip \"raw-lines-example.mp4\" (also contained in this repository) to see what the output should look like after using the helper functions below. \n",
    "\n",
    "Once you have a result that looks roughly like \"raw-lines-example.mp4\", you'll need to get creative and try to average and/or extrapolate the line segments you've detected to map out the full extent of the lane lines.  You can see an example of the result you're going for in the video \"P1_example.mp4\".  Ultimately, you would like to draw just one line for the left side of the lane, and one for the right.\n",
    "\n",
    "---\n",
    "Let's have a look at our first image called 'test_images/solidWhiteRight.jpg'.  Run the 2 cells below (hit Shift-Enter or the \"play\" button above) to display the image.\n",
    "\n",
    "**Note** If, at any point, you encounter frozen display windows or other confounding issues, you can always start again with a clean slate by going to the \"Kernel\" menu above and selecting \"Restart & Clear Output\".\n",
    "\n",
    "---"
   ]
  },
  {
   "cell_type": "markdown",
   "metadata": {
    "deletable": true,
    "editable": true
   },
   "source": [
    "**The tools you have are color selection, region of interest selection, grayscaling, Gaussian smoothing, Canny Edge Detection and Hough Tranform line detection.  You  are also free to explore and try other techniques that were not presented in the lesson.  Your goal is piece together a pipeline to detect the line segments in the image, then average/extrapolate them and draw them onto the image for display (as below).  Once you have a working pipeline, try it out on the video stream below.**\n",
    "\n",
    "---\n",
    "\n",
    "<figure>\n",
    " <img src=\"line-segments-example.jpg\" width=\"380\" alt=\"Combined Image\" />\n",
    " <figcaption>\n",
    " <p></p> \n",
    " <p style=\"text-align: center;\"> Your output should look something like this (above) after detecting line segments using the helper functions below </p> \n",
    " </figcaption>\n",
    "</figure>\n",
    " <p></p> \n",
    "<figure>\n",
    " <img src=\"laneLines_thirdPass.jpg\" width=\"380\" alt=\"Combined Image\" />\n",
    " <figcaption>\n",
    " <p></p> \n",
    " <p style=\"text-align: center;\"> Your goal is to connect/average/extrapolate line segments to get output like this</p> \n",
    " </figcaption>\n",
    "</figure>"
   ]
  },
  {
   "cell_type": "code",
   "execution_count": 16,
   "metadata": {
    "collapsed": false,
    "deletable": true,
    "editable": true
   },
   "outputs": [],
   "source": [
    "#importing some useful packages\n",
    "import matplotlib.pyplot as plt\n",
    "import matplotlib.image as mpimg\n",
    "import numpy as np\n",
    "import cv2\n",
    "%matplotlib inline"
   ]
  },
  {
   "cell_type": "code",
   "execution_count": 17,
   "metadata": {
    "collapsed": false,
    "deletable": true,
    "editable": true,
    "scrolled": true
   },
   "outputs": [],
   "source": [
    "#reading in an image\n",
    "image = mpimg.imread('test_images/solidWhiteRight.jpg')\n",
    "#printing out some stats and plotting\n",
    "#print('This image is:', type(image), 'with dimesions:', image.shape)\n",
    "#plt.imshow(image)  #call as plt.imshow(gray, cmap='gray') to show a grayscaled image"
   ]
  },
  {
   "cell_type": "markdown",
   "metadata": {
    "deletable": true,
    "editable": true
   },
   "source": [
    "**Some OpenCV functions (beyond those introduced in the lesson) that might be useful for this project are:**\n",
    "\n",
    "`cv2.inRange()` for color selection  \n",
    "`cv2.fillPoly()` for regions selection  \n",
    "`cv2.line()` to draw lines on an image given endpoints  \n",
    "`cv2.addWeighted()` to coadd / overlay two images\n",
    "`cv2.cvtColor()` to grayscale or change color\n",
    "`cv2.imwrite()` to output images to file  \n",
    "`cv2.bitwise_and()` to apply a mask to an image\n",
    "\n",
    "**Check out the OpenCV documentation to learn about these and discover even more awesome functionality!**"
   ]
  },
  {
   "cell_type": "markdown",
   "metadata": {
    "deletable": true,
    "editable": true
   },
   "source": [
    "Below are some helper functions to help get you started. They should look familiar from the lesson!"
   ]
  },
  {
   "cell_type": "code",
   "execution_count": 57,
   "metadata": {
    "collapsed": false,
    "deletable": true,
    "editable": true
   },
   "outputs": [],
   "source": [
    "import math\n",
    "\n",
    "def grayscale(img):\n",
    "    \"\"\"Applies the Grayscale transform\n",
    "    This will return an image with only one color channel\n",
    "    but NOTE: to see the returned image as grayscale\n",
    "    you should call plt.imshow(gray, cmap='gray')\"\"\"\n",
    "    return cv2.cvtColor(img, cv2.COLOR_BGR2GRAY)\n",
    "\n",
    "def canny(img, low_threshold, high_threshold):\n",
    "    \"\"\"Applies the Canny transform\"\"\"\n",
    "    return cv2.Canny(img, low_threshold, high_threshold)\n",
    "\n",
    "def gaussian_blur(img, kernel_size):\n",
    "    \"\"\"Applies a Gaussian Noise kernel\"\"\"\n",
    "    return cv2.GaussianBlur(img, (kernel_size, kernel_size), 0)\n",
    "\n",
    "def region_of_interest(img, vertices):\n",
    "    \"\"\"\n",
    "    Applies an image mask.\n",
    "    \n",
    "    Only keeps the region of the image defined by the polygon\n",
    "    formed from `vertices`. The rest of the image is set to black.\n",
    "    \"\"\"\n",
    "    #defining a blank mask to start with\n",
    "    mask = np.zeros_like(img)   \n",
    "    \n",
    "    #defining a 3 channel or 1 channel color to fill the mask with depending on the input image\n",
    "    if len(img.shape) > 2:\n",
    "        channel_count = img.shape[2]  # i.e. 3 or 4 depending on your image\n",
    "        ignore_mask_color = (255,) * channel_count\n",
    "    else:\n",
    "        ignore_mask_color = 255\n",
    "        \n",
    "    #filling pixels inside the polygon defined by \"vertices\" with the fill color    \n",
    "    cv2.fillPoly(mask, vertices, ignore_mask_color)\n",
    "    \n",
    "    #returning the image only where mask pixels are nonzero\n",
    "    masked_image = cv2.bitwise_and(img, mask)\n",
    "    return masked_image\n",
    "\n",
    "\n",
    "def draw_lines(img, lines, color=[255, 0, 0], thickness=3):\n",
    "    \"\"\"\n",
    "    NOTE: this is the function you might want to use as a starting point once you want to \n",
    "    average/extrapolate the line segments you detect to map out the full\n",
    "    extent of the lane (going from the result shown in raw-lines-example.mp4\n",
    "    to that shown in P1_example.mp4).  \n",
    "    \n",
    "    Think about things like separating line segments by their \n",
    "    slope ((y2-y1)/(x2-x1)) to decide which segments are part of the left\n",
    "    line vs. the right line.  Then, you can average the position of each of \n",
    "    the lines and extrapolate to the top and bottom of the lane.\n",
    "    \n",
    "    This function draws `lines` with `color` and `thickness`.    \n",
    "    Lines are drawn on the image inplace (mutates the image).\n",
    "    If you want to make the lines semi-transparent, think about combining\n",
    "    this function with the weighted_img() function below\n",
    "    \"\"\"\n",
    "    for line in interpolate(lines):\n",
    "        for x1,y1,x2,y2 in line:\n",
    "            cv2.line(img, (x1, y1), (x2, y2), color, thickness)\n",
    "\n",
    "def interpolate(lines):\n",
    "    clines = []\n",
    "    ll_start = []\n",
    "    # Find start of left lane\n",
    "    for line in lines:\n",
    "        for x1,y1,x2,y2 in line:\n",
    "            m = (y2-y1)/(x2-x1)\n",
    "            if (m < 0) and not ll_start:\n",
    "                ll_start = [x1,y1,x2,y2]\n",
    "                break\n",
    "    # Plot from left lane start to current point\n",
    "    for line in lines:\n",
    "        for x1,y1,x2,y2 in line:\n",
    "            m = (y2-y1)/(x2-x1)\n",
    "            if (m < 0):\n",
    "                x = np.average([ll_start[0],ll_start[2]])\n",
    "                y = np.average([ll_start[1],ll_start[3]])\n",
    "                clines.append(np.array([[x,y,x1,y1]], dtype=np.int32))\n",
    "                clines.append(np.array([[x1,y1,x2,y2]], dtype=np.int32))\n",
    "            else:\n",
    "                clines.append(np.array([[x1,y1,x2,y2]], dtype=np.int32))\n",
    "    return np.array(clines)\n",
    "\n",
    "def hough_lines(img, rho, theta, threshold, min_line_len, max_line_gap):\n",
    "    \"\"\"\n",
    "    `img` should be the output of a Canny transform.\n",
    "        \n",
    "    Returns an image with hough lines drawn.\n",
    "    \"\"\"\n",
    "    lines = cv2.HoughLinesP(img, rho, theta, threshold, np.array([]), minLineLength=min_line_len, maxLineGap=max_line_gap)\n",
    "    line_img = np.zeros((*img.shape, 3), dtype=np.uint8)\n",
    "    draw_lines(line_img, lines)\n",
    "    return line_img\n",
    "\n",
    "# Python 3 has support for cool math symbols.\n",
    "\n",
    "def weighted_img(img, initial_img, α=0.8, β=2., λ=0.):\n",
    "    \"\"\"\n",
    "    `img` is the output of the hough_lines(), An image with lines drawn on it.\n",
    "    Should be a blank image (all black) with lines drawn on it.\n",
    "    \n",
    "    `initial_img` should be the image before any processing.\n",
    "    \n",
    "    The result image is computed as follows:\n",
    "    \n",
    "    initial_img * α + img * β + λ\n",
    "    NOTE: initial_img and img must be the same shape!\n",
    "    \"\"\"\n",
    "    return cv2.addWeighted(initial_img, α, img, β, λ)"
   ]
  },
  {
   "cell_type": "code",
   "execution_count": 88,
   "metadata": {
    "collapsed": false,
    "deletable": true,
    "editable": true
   },
   "outputs": [],
   "source": [
    "def pipeline(image, thresh=(200, 255)):\n",
    "    # threshold foe white and yellow images\n",
    "    wlow = np.array([thresh[0], thresh[0], thresh[0]])\n",
    "    whigh = np.array([thresh[1], thresh[1], thresh[1]])\n",
    "    ylow = np.array([thresh[0], thresh[0], 0])\n",
    "    yhigh = np.array([thresh[1], thresh[1], thresh[1]])\n",
    "\n",
    "    # threshold the image to select white lanes\n",
    "    white = cv2.inRange(image, wlow, whigh)\n",
    "    # threshold the image to select yellow lanes\n",
    "    yellow = cv2.inRange(image, ylow, yhigh)\n",
    "    # combine both masks to obtain final image\n",
    "    img = white + yellow\n",
    "    # shape of image\n",
    "    imshape = img.shape\n",
    "    vertices = np.array([[(450, 325), (150, imshape[0]), (imshape[1], imshape[0]), (575, 325)]], dtype=np.int32)\n",
    "    # edge and line segment detection\n",
    "    blur_img = gaussian_blur(img, 3)\n",
    "    edges = canny(blur_img, 50, 150)\n",
    "    masked_edges = region_of_interest(edges, vertices)\n",
    "    line_image = hough_lines(masked_edges, 1, np.pi/180, 30, 100, 160)\n",
    "    lines_edges = weighted_img(line_image, image)\n",
    "    return lines_edges\n"
   ]
  },
  {
   "cell_type": "markdown",
   "metadata": {
    "deletable": true,
    "editable": true
   },
   "source": [
    "## Test on Images\n",
    "\n",
    "Now you should build your pipeline to work on the images in the directory \"test_images\"  \n",
    "**You should make sure your pipeline works well on these images before you try the videos.**"
   ]
  },
  {
   "cell_type": "code",
   "execution_count": 30,
   "metadata": {
    "collapsed": false,
    "deletable": true,
    "editable": true,
    "scrolled": true
   },
   "outputs": [],
   "source": [
    "import os\n",
    "\n",
    "for base, _, files in os.walk(\"test_images/\"):\n",
    "    for image_file in files:\n",
    "        image = mpimg.imread(os.path.join(base, image_file))\n",
    "        image_copy = os.path.join('output_images', '%s' % image_file)\n",
    "        line_edges = pipeline(image)\n",
    "        #plt.imshow(line_edges)\n",
    "        plt.imsave(image_copy, line_edges)\n",
    "        plt.close()"
   ]
  },
  {
   "cell_type": "markdown",
   "metadata": {
    "deletable": true,
    "editable": true
   },
   "source": [
    "run your solution on all test_images and make copies into the test_images directory)."
   ]
  },
  {
   "cell_type": "markdown",
   "metadata": {
    "deletable": true,
    "editable": true
   },
   "source": [
    "## Test on Videos\n",
    "\n",
    "You know what's cooler than drawing lanes over images? Drawing lanes over video!\n",
    "\n",
    "We can test our solution on two provided videos:\n",
    "\n",
    "`solidWhiteRight.mp4`\n",
    "\n",
    "`solidYellowLeft.mp4`"
   ]
  },
  {
   "cell_type": "code",
   "execution_count": 4,
   "metadata": {
    "collapsed": false,
    "deletable": true,
    "editable": true
   },
   "outputs": [],
   "source": [
    "# Import everything needed to edit/save/watch video clips\n",
    "from moviepy.editor import VideoFileClip\n",
    "from IPython.display import HTML"
   ]
  },
  {
   "cell_type": "code",
   "execution_count": 31,
   "metadata": {
    "collapsed": true,
    "deletable": true,
    "editable": true
   },
   "outputs": [],
   "source": [
    "def process_image(image):\n",
    "    return pipeline(image)"
   ]
  },
  {
   "cell_type": "markdown",
   "metadata": {
    "deletable": true,
    "editable": true
   },
   "source": [
    "Let's try the one with the solid white lane on the right first ..."
   ]
  },
  {
   "cell_type": "code",
   "execution_count": 89,
   "metadata": {
    "collapsed": false,
    "deletable": true,
    "editable": true
   },
   "outputs": [
    {
     "name": "stdout",
     "output_type": "stream",
     "text": [
      "[MoviePy] >>>> Building video white.mp4\n",
      "[MoviePy] Writing video white.mp4\n"
     ]
    },
    {
     "name": "stderr",
     "output_type": "stream",
     "text": [
      "100%|█████████▉| 221/222 [00:14<00:00, 15.26it/s]\n"
     ]
    },
    {
     "name": "stdout",
     "output_type": "stream",
     "text": [
      "[MoviePy] Done.\n",
      "[MoviePy] >>>> Video ready: white.mp4 \n",
      "\n",
      "CPU times: user 4.05 s, sys: 244 ms, total: 4.29 s\n",
      "Wall time: 16.3 s\n"
     ]
    }
   ],
   "source": [
    "white_output = 'white.mp4'\n",
    "clip1 = VideoFileClip(\"solidWhiteRight.mp4\")\n",
    "white_clip = clip1.fl_image(process_image) #NOTE: this function expects color images!!\n",
    "%time white_clip.write_videofile(white_output, audio=False)"
   ]
  },
  {
   "cell_type": "markdown",
   "metadata": {
    "deletable": true,
    "editable": true
   },
   "source": [
    "Play the video inline, or if you prefer find the video in your filesystem (should be in the same directory) and play it in your video player of choice."
   ]
  },
  {
   "cell_type": "code",
   "execution_count": 90,
   "metadata": {
    "collapsed": false,
    "deletable": true,
    "editable": true
   },
   "outputs": [
    {
     "data": {
      "text/html": [
       "\n",
       "<video width=\"960\" height=\"540\" controls>\n",
       "  <source src=\"white.mp4\">\n",
       "</video>\n"
      ],
      "text/plain": [
       "<IPython.core.display.HTML object>"
      ]
     },
     "execution_count": 90,
     "metadata": {},
     "output_type": "execute_result"
    }
   ],
   "source": [
    "HTML(\"\"\"\n",
    "<video width=\"960\" height=\"540\" controls>\n",
    "  <source src=\"{0}\">\n",
    "</video>\n",
    "\"\"\".format(white_output))"
   ]
  },
  {
   "cell_type": "markdown",
   "metadata": {
    "deletable": true,
    "editable": true
   },
   "source": [
    "**At this point, if you were successful you probably have the Hough line segments drawn onto the road, but what about identifying the full extent of the lane and marking it clearly as in the example video (P1_example.mp4)?  Think about defining a line to run the full length of the visible lane based on the line segments you identified with the Hough Transform.  Modify your draw_lines function accordingly and try re-running your pipeline.**"
   ]
  },
  {
   "cell_type": "markdown",
   "metadata": {
    "deletable": true,
    "editable": true
   },
   "source": [
    "Now for the one with the solid yellow lane on the left. This one's more tricky!"
   ]
  },
  {
   "cell_type": "code",
   "execution_count": 91,
   "metadata": {
    "collapsed": false,
    "deletable": true,
    "editable": true
   },
   "outputs": [
    {
     "name": "stdout",
     "output_type": "stream",
     "text": [
      "[MoviePy] >>>> Building video yellow.mp4\n",
      "[MoviePy] Writing video yellow.mp4\n"
     ]
    },
    {
     "name": "stderr",
     "output_type": "stream",
     "text": [
      "100%|█████████▉| 681/682 [00:40<00:00, 16.34it/s]\n"
     ]
    },
    {
     "name": "stdout",
     "output_type": "stream",
     "text": [
      "[MoviePy] Done.\n",
      "[MoviePy] >>>> Video ready: yellow.mp4 \n",
      "\n",
      "CPU times: user 10.2 s, sys: 684 ms, total: 10.9 s\n",
      "Wall time: 42.3 s\n"
     ]
    }
   ],
   "source": [
    "yellow_output = 'yellow.mp4'\n",
    "clip2 = VideoFileClip('solidYellowLeft.mp4')\n",
    "yellow_clip = clip2.fl_image(process_image)\n",
    "%time yellow_clip.write_videofile(yellow_output, audio=False)"
   ]
  },
  {
   "cell_type": "code",
   "execution_count": 92,
   "metadata": {
    "collapsed": false,
    "deletable": true,
    "editable": true
   },
   "outputs": [
    {
     "data": {
      "text/html": [
       "\n",
       "<video width=\"960\" height=\"540\" controls>\n",
       "  <source src=\"yellow.mp4\">\n",
       "</video>\n"
      ],
      "text/plain": [
       "<IPython.core.display.HTML object>"
      ]
     },
     "execution_count": 92,
     "metadata": {},
     "output_type": "execute_result"
    }
   ],
   "source": [
    "HTML(\"\"\"\n",
    "<video width=\"960\" height=\"540\" controls>\n",
    "  <source src=\"{0}\">\n",
    "</video>\n",
    "\"\"\".format(yellow_output))"
   ]
  },
  {
   "cell_type": "markdown",
   "metadata": {
    "deletable": true,
    "editable": true
   },
   "source": [
    "## Reflections\n",
    "\n",
    "Finding lanes on a road was an interesting experience. It would have been helpful if I had completed an image processing course beforehand but in the end I was able to complete the project with the help of lecture notes. \n",
    "\n",
    "There are couple of flaws in the current pipeline. I think the current approach will fail on roads where the lane markings are fairly sparse due to fading over time. I see many such roads in my current city. Also, sometimes there are few sections on highway with a warning size mentioning that for next X kilometers there are strips on the road for color testing where I believe this approach will not work.\n",
    "\n",
    "I think in such cases we will need additional sensor information like from a radar so that the car is aware about its surroundings while it plots an imaginary lane for driving."
   ]
  },
  {
   "cell_type": "markdown",
   "metadata": {
    "deletable": true,
    "editable": true
   },
   "source": [
    "## Submission\n",
    "\n",
    "If you're satisfied with your video outputs it's time to submit!  Submit this ipython notebook for review.\n"
   ]
  },
  {
   "cell_type": "markdown",
   "metadata": {
    "collapsed": true,
    "deletable": true,
    "editable": true
   },
   "source": [
    "## Optional Challenge\n",
    "\n",
    "Try your lane finding pipeline on the video below.  Does it still work?  Can you figure out a way to make it more robust?  If you're up for the challenge, modify your pipeline so it works with this video and submit it along with the rest of your project!"
   ]
  },
  {
   "cell_type": "code",
   "execution_count": 65,
   "metadata": {
    "collapsed": false,
    "deletable": true,
    "editable": true
   },
   "outputs": [
    {
     "name": "stdout",
     "output_type": "stream",
     "text": [
      "[MoviePy] >>>> Building video extra.mp4\n",
      "[MoviePy] Writing video extra.mp4\n"
     ]
    },
    {
     "name": "stderr",
     "output_type": "stream",
     "text": [
      "\n",
      "  0%|          | 0/251 [00:00<?, ?it/s]\u001b[A\n",
      "  0%|          | 1/251 [00:00<00:49,  5.07it/s]\u001b[A\n",
      "  1%|          | 2/251 [00:00<00:44,  5.63it/s]\u001b[A\n",
      "  2%|▏         | 4/251 [00:00<00:37,  6.65it/s]\u001b[A\n",
      "  2%|▏         | 6/251 [00:00<00:31,  7.85it/s]\u001b[A\n",
      "  3%|▎         | 7/251 [00:00<00:29,  8.33it/s]\u001b[A\n",
      "  4%|▎         | 9/251 [00:00<00:25,  9.59it/s]\u001b[A\n",
      "  4%|▍         | 11/251 [00:01<00:23, 10.05it/s]\u001b[A\n",
      "  5%|▌         | 13/251 [00:01<00:23, 10.32it/s]\u001b[A\n",
      "  6%|▌         | 15/251 [00:01<00:20, 11.31it/s]\u001b[A\n",
      "  7%|▋         | 17/251 [00:01<00:20, 11.48it/s]\u001b[A\n",
      "  8%|▊         | 19/251 [00:01<00:20, 11.27it/s]\u001b[A\n",
      "  8%|▊         | 21/251 [00:01<00:19, 11.78it/s]\u001b[A\n",
      "  9%|▉         | 23/251 [00:02<00:19, 11.74it/s]\u001b[A\n",
      " 10%|▉         | 25/251 [00:02<00:19, 11.44it/s]\u001b[A\n",
      " 11%|█         | 27/251 [00:02<00:18, 11.82it/s]\u001b[A\n",
      " 12%|█▏        | 29/251 [00:02<00:19, 11.39it/s]\u001b[A\n",
      " 12%|█▏        | 31/251 [00:02<00:19, 11.23it/s]\u001b[A\n",
      " 13%|█▎        | 33/251 [00:02<00:19, 11.43it/s]\u001b[A\n",
      " 14%|█▍        | 35/251 [00:03<00:18, 11.47it/s]\u001b[A\n",
      " 15%|█▍        | 37/251 [00:03<00:17, 12.02it/s]\u001b[A\n",
      " 16%|█▌        | 39/251 [00:03<00:17, 11.99it/s]\u001b[A\n",
      " 16%|█▋        | 41/251 [00:03<00:17, 12.04it/s]\u001b[A\n",
      " 17%|█▋        | 43/251 [00:03<00:17, 11.98it/s]\u001b[A\n",
      " 18%|█▊        | 45/251 [00:04<00:20, 10.29it/s]\u001b[A\n",
      " 19%|█▊        | 47/251 [00:04<00:36,  5.62it/s]\u001b[A\n",
      " 20%|█▉        | 49/251 [00:05<00:37,  5.38it/s]\u001b[A\n",
      " 20%|█▉        | 50/251 [00:05<00:39,  5.08it/s]\u001b[A\n",
      " 20%|██        | 51/251 [00:05<00:42,  4.68it/s]\u001b[A\n",
      " 21%|██        | 52/251 [00:05<00:46,  4.26it/s]\u001b[A\n",
      " 21%|██        | 53/251 [00:06<00:47,  4.16it/s]\u001b[A\n",
      " 22%|██▏       | 54/251 [00:06<00:53,  3.67it/s]\u001b[A\n",
      " 22%|██▏       | 55/251 [00:06<00:53,  3.63it/s]\u001b[A\n",
      " 22%|██▏       | 56/251 [00:07<00:54,  3.61it/s]\u001b[A\n",
      " 23%|██▎       | 57/251 [00:07<00:48,  3.97it/s]\u001b[A\n",
      " 23%|██▎       | 58/251 [00:07<00:57,  3.33it/s]\u001b[A\n",
      " 24%|██▎       | 59/251 [00:08<01:04,  2.99it/s]\u001b[A\n",
      " 24%|██▍       | 60/251 [00:08<00:55,  3.46it/s]\u001b[A\n",
      " 24%|██▍       | 61/251 [00:08<00:44,  4.28it/s]\u001b[A\n",
      " 25%|██▍       | 62/251 [00:08<00:52,  3.63it/s]\u001b[A\n",
      " 25%|██▌       | 63/251 [00:09<00:50,  3.76it/s]\u001b[A\n",
      " 25%|██▌       | 64/251 [00:09<00:46,  4.00it/s]\u001b[A\n",
      " 26%|██▌       | 65/251 [00:09<00:39,  4.74it/s]\u001b[A\n",
      " 26%|██▋       | 66/251 [00:09<00:50,  3.63it/s]\u001b[A\n",
      " 27%|██▋       | 67/251 [00:10<00:52,  3.51it/s]\u001b[A\n",
      " 27%|██▋       | 68/251 [00:10<00:47,  3.85it/s]\u001b[A\n",
      " 27%|██▋       | 69/251 [00:10<00:43,  4.18it/s]\u001b[A\n",
      " 28%|██▊       | 70/251 [00:10<00:44,  4.08it/s]\u001b[A\n",
      " 28%|██▊       | 71/251 [00:11<00:51,  3.52it/s]\u001b[A\n",
      " 29%|██▊       | 72/251 [00:11<00:41,  4.28it/s]\u001b[A\n",
      " 29%|██▉       | 73/251 [00:11<00:39,  4.49it/s]\u001b[A\n",
      " 29%|██▉       | 74/251 [00:11<00:45,  3.91it/s]\u001b[A\n",
      " 30%|██▉       | 75/251 [00:11<00:40,  4.37it/s]\u001b[A\n",
      " 30%|███       | 76/251 [00:12<00:46,  3.80it/s]\u001b[A\n",
      " 31%|███       | 77/251 [00:12<00:37,  4.65it/s]\u001b[A\n",
      " 31%|███       | 78/251 [00:12<00:42,  4.09it/s]\u001b[A\n",
      " 31%|███▏      | 79/251 [00:12<00:40,  4.22it/s]\u001b[A\n",
      " 32%|███▏      | 80/251 [00:13<00:49,  3.42it/s]\u001b[A\n",
      " 33%|███▎      | 82/251 [00:13<00:46,  3.67it/s]\u001b[A\n",
      " 33%|███▎      | 83/251 [00:13<00:41,  4.02it/s]\u001b[A\n",
      " 33%|███▎      | 84/251 [00:14<00:40,  4.14it/s]\u001b[A\n",
      " 34%|███▍      | 85/251 [00:14<00:37,  4.42it/s]\u001b[A\n",
      " 34%|███▍      | 86/251 [00:14<00:46,  3.54it/s]\u001b[A\n",
      " 35%|███▍      | 87/251 [00:14<00:42,  3.90it/s]\u001b[A\n",
      " 35%|███▌      | 88/251 [00:15<00:37,  4.30it/s]\u001b[A\n",
      " 35%|███▌      | 89/251 [00:15<00:41,  3.92it/s]\u001b[A\n",
      " 36%|███▌      | 90/251 [00:15<00:41,  3.84it/s]\u001b[A\n",
      " 36%|███▋      | 91/251 [00:16<00:47,  3.38it/s]\u001b[A\n",
      " 37%|███▋      | 92/251 [00:16<00:42,  3.78it/s]\u001b[A\n",
      " 37%|███▋      | 93/251 [00:16<00:35,  4.46it/s]\u001b[A\n",
      " 37%|███▋      | 94/251 [00:16<00:42,  3.74it/s]\u001b[A\n",
      " 38%|███▊      | 95/251 [00:17<00:40,  3.87it/s]\u001b[A\n",
      " 38%|███▊      | 96/251 [00:17<00:39,  3.95it/s]\u001b[A\n",
      " 39%|███▊      | 97/251 [00:17<00:49,  3.12it/s]\u001b[A\n",
      " 39%|███▉      | 98/251 [00:17<00:42,  3.63it/s]\u001b[A\n",
      " 39%|███▉      | 99/251 [00:18<00:40,  3.80it/s]\u001b[A\n",
      " 40%|███▉      | 100/251 [00:18<00:39,  3.82it/s]\u001b[A\n",
      " 40%|████      | 101/251 [00:18<00:40,  3.69it/s]\u001b[A\n",
      " 41%|████      | 102/251 [00:19<00:46,  3.23it/s]\u001b[A\n",
      " 41%|████      | 103/251 [00:19<00:39,  3.75it/s]\u001b[A\n",
      " 41%|████▏     | 104/251 [00:19<00:41,  3.56it/s]\u001b[A\n",
      " 42%|████▏     | 105/251 [00:19<00:39,  3.67it/s]\u001b[A\n",
      " 42%|████▏     | 106/251 [00:20<00:41,  3.49it/s]\u001b[A\n",
      " 43%|████▎     | 107/251 [00:20<00:41,  3.46it/s]\u001b[A\n",
      " 43%|████▎     | 108/251 [00:20<00:42,  3.33it/s]\u001b[A\n",
      " 44%|████▍     | 110/251 [00:21<00:36,  3.91it/s]\u001b[A\n",
      " 44%|████▍     | 111/251 [00:21<00:43,  3.23it/s]\u001b[A\n",
      " 45%|████▍     | 112/251 [00:21<00:42,  3.28it/s]\u001b[A\n",
      " 45%|████▌     | 113/251 [00:21<00:34,  4.04it/s]\u001b[A\n",
      " 45%|████▌     | 114/251 [00:22<00:39,  3.49it/s]\u001b[A\n",
      " 46%|████▌     | 115/251 [00:22<00:37,  3.64it/s]\u001b[A\n",
      " 46%|████▌     | 116/251 [00:22<00:35,  3.78it/s]\u001b[A\n",
      " 47%|████▋     | 117/251 [00:23<00:34,  3.85it/s]\u001b[A\n",
      " 47%|████▋     | 118/251 [00:23<00:38,  3.44it/s]\u001b[A\n",
      " 47%|████▋     | 119/251 [00:23<00:37,  3.52it/s]\u001b[A\n",
      " 48%|████▊     | 120/251 [00:24<00:39,  3.32it/s]\u001b[A\n",
      " 48%|████▊     | 121/251 [00:24<00:38,  3.40it/s]\u001b[A\n",
      " 49%|████▊     | 122/251 [00:24<00:40,  3.16it/s]\u001b[A\n",
      " 49%|████▉     | 123/251 [00:24<00:37,  3.45it/s]\u001b[A\n",
      " 49%|████▉     | 124/251 [00:25<00:42,  3.01it/s]\u001b[A\n",
      " 50%|████▉     | 125/251 [00:25<00:40,  3.11it/s]\u001b[A\n",
      " 50%|█████     | 126/251 [00:25<00:37,  3.34it/s]\u001b[A\n",
      " 51%|█████     | 127/251 [00:26<00:44,  2.81it/s]\u001b[A\n",
      " 51%|█████     | 128/251 [00:26<00:35,  3.43it/s]\u001b[A\n",
      " 51%|█████▏    | 129/251 [00:26<00:39,  3.06it/s]\u001b[A\n",
      " 52%|█████▏    | 130/251 [00:27<00:42,  2.85it/s]\u001b[A\n",
      " 52%|█████▏    | 131/251 [00:27<00:34,  3.52it/s]\u001b[A\n",
      " 53%|█████▎    | 132/251 [00:27<00:40,  2.97it/s]\u001b[A\n",
      " 53%|█████▎    | 133/251 [00:28<00:32,  3.59it/s]\u001b[A\n",
      " 53%|█████▎    | 134/251 [00:28<00:37,  3.11it/s]\u001b[A\n",
      " 54%|█████▍    | 135/251 [00:28<00:34,  3.39it/s]\u001b[A\n",
      " 54%|█████▍    | 136/251 [00:28<00:31,  3.62it/s]\u001b[A\n",
      " 55%|█████▍    | 137/251 [00:29<00:37,  3.06it/s]\u001b[A\n",
      " 55%|█████▍    | 138/251 [00:29<00:36,  3.10it/s]\u001b[A\n",
      " 55%|█████▌    | 139/251 [00:30<00:36,  3.06it/s]\u001b[A\n",
      " 56%|█████▌    | 140/251 [00:30<00:35,  3.17it/s]\u001b[A\n",
      " 56%|█████▌    | 141/251 [00:30<00:31,  3.55it/s]\u001b[A\n",
      " 57%|█████▋    | 142/251 [00:30<00:36,  3.03it/s]\u001b[A\n",
      " 57%|█████▋    | 143/251 [00:31<00:33,  3.27it/s]\u001b[A\n",
      " 57%|█████▋    | 144/251 [00:31<00:32,  3.30it/s]\u001b[A\n",
      " 58%|█████▊    | 145/251 [00:31<00:32,  3.23it/s]\u001b[A\n",
      " 58%|█████▊    | 146/251 [00:32<00:31,  3.30it/s]\u001b[A\n",
      " 59%|█████▊    | 147/251 [00:32<00:32,  3.22it/s]\u001b[A\n",
      " 59%|█████▉    | 148/251 [00:32<00:30,  3.35it/s]\u001b[A\n",
      " 59%|█████▉    | 149/251 [00:32<00:26,  3.82it/s]\u001b[A\n",
      " 60%|█████▉    | 150/251 [00:33<00:33,  2.99it/s]\u001b[A\n",
      " 60%|██████    | 151/251 [00:33<00:31,  3.21it/s]\u001b[A\n",
      " 61%|██████    | 152/251 [00:33<00:29,  3.41it/s]\u001b[A\n",
      " 61%|██████    | 153/251 [00:34<00:24,  3.98it/s]\u001b[A\n",
      " 61%|██████▏   | 154/251 [00:34<00:27,  3.50it/s]\u001b[A\n",
      " 62%|██████▏   | 155/251 [00:34<00:23,  4.11it/s]\u001b[A\n",
      " 62%|██████▏   | 156/251 [00:34<00:25,  3.66it/s]\u001b[A\n",
      " 63%|██████▎   | 157/251 [00:35<00:26,  3.61it/s]\u001b[A\n",
      " 63%|██████▎   | 158/251 [00:35<00:28,  3.30it/s]\u001b[A\n",
      " 63%|██████▎   | 159/251 [00:35<00:24,  3.76it/s]\u001b[A\n",
      " 64%|██████▎   | 160/251 [00:36<00:24,  3.77it/s]\u001b[A\n",
      " 64%|██████▍   | 161/251 [00:36<00:23,  3.84it/s]\u001b[A\n",
      " 65%|██████▍   | 162/251 [00:36<00:25,  3.56it/s]\u001b[A\n",
      " 65%|██████▍   | 163/251 [00:36<00:20,  4.27it/s]\u001b[A\n",
      " 65%|██████▌   | 164/251 [00:37<00:26,  3.27it/s]\u001b[A\n",
      " 66%|██████▌   | 165/251 [00:37<00:21,  4.05it/s]\u001b[A\n",
      " 66%|██████▌   | 166/251 [00:37<00:24,  3.48it/s]\u001b[A\n",
      " 67%|██████▋   | 167/251 [00:38<00:24,  3.39it/s]\u001b[A\n",
      " 67%|██████▋   | 168/251 [00:38<00:25,  3.24it/s]\u001b[A\n",
      " 68%|██████▊   | 170/251 [00:38<00:23,  3.46it/s]\u001b[A\n",
      " 68%|██████▊   | 171/251 [00:39<00:23,  3.39it/s]\u001b[A\n",
      " 69%|██████▊   | 172/251 [00:39<00:23,  3.37it/s]\u001b[A\n",
      " 69%|██████▉   | 173/251 [00:39<00:19,  4.00it/s]\u001b[A\n",
      " 69%|██████▉   | 174/251 [00:40<00:25,  2.99it/s]\u001b[A\n",
      " 70%|██████▉   | 175/251 [00:40<00:23,  3.21it/s]\u001b[A\n",
      " 70%|███████   | 176/251 [00:40<00:24,  3.00it/s]\u001b[A\n",
      " 71%|███████   | 177/251 [00:41<00:23,  3.16it/s]\u001b[A\n",
      " 71%|███████   | 178/251 [00:41<00:25,  2.84it/s]\u001b[A\n",
      " 71%|███████▏  | 179/251 [00:41<00:25,  2.86it/s]\u001b[A\n",
      " 72%|███████▏  | 180/251 [00:42<00:21,  3.24it/s]\u001b[A\n",
      " 72%|███████▏  | 181/251 [00:42<00:21,  3.32it/s]\u001b[A\n",
      " 73%|███████▎  | 182/251 [00:42<00:25,  2.67it/s]\u001b[A\n",
      " 73%|███████▎  | 183/251 [00:43<00:21,  3.14it/s]\u001b[A\n",
      " 73%|███████▎  | 184/251 [00:43<00:22,  3.03it/s]\u001b[A\n",
      " 74%|███████▎  | 185/251 [00:43<00:22,  2.94it/s]\u001b[A\n",
      " 74%|███████▍  | 186/251 [00:44<00:24,  2.66it/s]\u001b[A\n",
      " 75%|███████▍  | 187/251 [00:44<00:23,  2.68it/s]\u001b[A\n",
      " 75%|███████▍  | 188/251 [00:45<00:25,  2.45it/s]\u001b[A\n",
      " 75%|███████▌  | 189/251 [00:45<00:25,  2.40it/s]\u001b[A\n",
      " 76%|███████▌  | 190/251 [00:45<00:19,  3.07it/s]\u001b[A\n",
      " 76%|███████▌  | 191/251 [00:46<00:20,  2.91it/s]\u001b[A\n",
      " 76%|███████▋  | 192/251 [00:46<00:22,  2.65it/s]\u001b[A\n",
      " 77%|███████▋  | 193/251 [00:46<00:17,  3.25it/s]\u001b[A\n",
      " 77%|███████▋  | 194/251 [00:47<00:21,  2.68it/s]\u001b[A\n",
      " 78%|███████▊  | 195/251 [00:47<00:20,  2.78it/s]\u001b[A\n",
      " 78%|███████▊  | 196/251 [00:47<00:19,  2.83it/s]\u001b[A\n",
      " 78%|███████▊  | 197/251 [00:48<00:16,  3.26it/s]\u001b[A\n",
      " 79%|███████▉  | 198/251 [00:48<00:17,  2.96it/s]\u001b[A\n",
      " 79%|███████▉  | 199/251 [00:48<00:17,  2.96it/s]\u001b[A\n",
      " 80%|███████▉  | 200/251 [00:48<00:15,  3.25it/s]\u001b[A\n",
      " 80%|████████  | 201/251 [00:49<00:12,  3.98it/s]\u001b[A\n",
      " 80%|████████  | 202/251 [00:49<00:14,  3.39it/s]\u001b[A\n",
      " 81%|████████  | 203/251 [00:49<00:14,  3.41it/s]\u001b[A\n",
      " 81%|████████▏ | 204/251 [00:50<00:14,  3.29it/s]\u001b[A\n",
      " 82%|████████▏ | 205/251 [00:50<00:11,  3.88it/s]\u001b[A\n",
      " 82%|████████▏ | 206/251 [00:50<00:13,  3.32it/s]\u001b[A\n",
      " 82%|████████▏ | 207/251 [00:50<00:11,  3.74it/s]\u001b[A\n",
      " 83%|████████▎ | 208/251 [00:51<00:12,  3.58it/s]\u001b[A\n",
      " 83%|████████▎ | 209/251 [00:51<00:12,  3.34it/s]\u001b[A\n",
      " 84%|████████▎ | 210/251 [00:51<00:10,  3.83it/s]\u001b[A\n",
      " 84%|████████▍ | 211/251 [00:51<00:10,  3.79it/s]\u001b[A\n",
      " 84%|████████▍ | 212/251 [00:52<00:12,  3.08it/s]\u001b[A\n",
      " 85%|████████▍ | 213/251 [00:52<00:10,  3.57it/s]\u001b[A\n",
      " 85%|████████▌ | 214/251 [00:52<00:09,  4.07it/s]\u001b[A\n",
      " 86%|████████▌ | 215/251 [00:53<00:10,  3.36it/s]\u001b[A\n",
      " 86%|████████▌ | 216/251 [00:53<00:11,  3.11it/s]\u001b[A\n",
      " 86%|████████▋ | 217/251 [00:53<00:10,  3.25it/s]\u001b[A\n",
      " 87%|████████▋ | 218/251 [00:53<00:08,  3.87it/s]\u001b[A\n",
      " 87%|████████▋ | 219/251 [00:54<00:10,  2.97it/s]\u001b[A\n",
      " 88%|████████▊ | 220/251 [00:54<00:10,  2.97it/s]\u001b[A\n",
      " 88%|████████▊ | 221/251 [00:54<00:08,  3.63it/s]\u001b[A\n",
      " 88%|████████▊ | 222/251 [00:55<00:09,  2.97it/s]\u001b[A\n",
      " 89%|████████▉ | 223/251 [00:55<00:09,  2.91it/s]\u001b[A\n",
      " 89%|████████▉ | 224/251 [00:56<00:08,  3.33it/s]\u001b[A\n",
      " 90%|█████████ | 226/251 [00:56<00:07,  3.48it/s]\u001b[A\n",
      " 90%|█████████ | 227/251 [00:56<00:06,  3.81it/s]\u001b[A\n",
      " 91%|█████████ | 228/251 [00:56<00:05,  4.30it/s]\u001b[A\n",
      " 91%|█████████ | 229/251 [00:57<00:05,  3.81it/s]\u001b[A\n",
      " 92%|█████████▏| 230/251 [00:57<00:06,  3.44it/s]\u001b[A\n",
      " 92%|█████████▏| 231/251 [00:57<00:05,  3.74it/s]\u001b[A\n",
      " 92%|█████████▏| 232/251 [00:58<00:05,  3.42it/s]\u001b[A\n",
      " 93%|█████████▎| 233/251 [00:58<00:04,  3.67it/s]\u001b[A\n",
      " 93%|█████████▎| 234/251 [00:58<00:05,  3.03it/s]\u001b[A\n",
      " 94%|█████████▎| 235/251 [00:59<00:05,  3.14it/s]\u001b[A\n",
      " 94%|█████████▍| 236/251 [00:59<00:04,  3.23it/s]\u001b[A\n",
      " 94%|█████████▍| 237/251 [00:59<00:03,  3.99it/s]\u001b[A\n",
      " 95%|█████████▍| 238/251 [00:59<00:03,  3.42it/s]\u001b[A\n",
      " 95%|█████████▌| 239/251 [01:00<00:03,  3.79it/s]\u001b[A\n",
      " 96%|█████████▌| 240/251 [01:00<00:02,  3.84it/s]\u001b[A\n",
      " 96%|█████████▌| 241/251 [01:00<00:02,  4.64it/s]\u001b[A\n",
      " 96%|█████████▋| 242/251 [01:00<00:02,  3.79it/s]\u001b[A\n",
      " 97%|█████████▋| 243/251 [01:01<00:01,  4.38it/s]\u001b[A\n",
      " 97%|█████████▋| 244/251 [01:01<00:01,  4.36it/s]\u001b[A\n",
      " 98%|█████████▊| 245/251 [01:01<00:01,  3.36it/s]\u001b[A\n",
      " 98%|█████████▊| 246/251 [01:01<00:01,  3.74it/s]\u001b[A\n",
      " 98%|█████████▊| 247/251 [01:02<00:01,  3.53it/s]\u001b[A\n",
      " 99%|█████████▉| 248/251 [01:02<00:00,  4.15it/s]\u001b[A\n",
      " 99%|█████████▉| 249/251 [01:02<00:00,  3.92it/s]\u001b[A\n",
      "100%|█████████▉| 250/251 [01:02<00:00,  3.97it/s]\u001b[A\n",
      "100%|██████████| 251/251 [01:03<00:00,  3.21it/s]\u001b[A\n",
      "\u001b[A"
     ]
    },
    {
     "name": "stdout",
     "output_type": "stream",
     "text": [
      "[MoviePy] Done.\n",
      "[MoviePy] >>>> Video ready: extra.mp4 \n",
      "\n",
      "CPU times: user 48.7 s, sys: 2.79 s, total: 51.5 s\n",
      "Wall time: 1min 8s\n"
     ]
    }
   ],
   "source": [
    "challenge_output = 'extra.mp4'\n",
    "clip2 = VideoFileClip('challenge.mp4')\n",
    "challenge_clip = clip2.fl_image(process_image)\n",
    "%time challenge_clip.write_videofile(challenge_output, audio=False)"
   ]
  },
  {
   "cell_type": "code",
   "execution_count": 66,
   "metadata": {
    "collapsed": false,
    "deletable": true,
    "editable": true
   },
   "outputs": [
    {
     "data": {
      "text/html": [
       "\n",
       "<video width=\"960\" height=\"540\" controls>\n",
       "  <source src=\"extra.mp4\">\n",
       "</video>\n"
      ],
      "text/plain": [
       "<IPython.core.display.HTML object>"
      ]
     },
     "execution_count": 66,
     "metadata": {},
     "output_type": "execute_result"
    }
   ],
   "source": [
    "HTML(\"\"\"\n",
    "<video width=\"960\" height=\"540\" controls>\n",
    "  <source src=\"{0}\">\n",
    "</video>\n",
    "\"\"\".format(challenge_output))"
   ]
  }
 ],
 "metadata": {
  "anaconda-cloud": {},
  "kernelspec": {
   "display_name": "Python 3",
   "language": "python",
   "name": "python3"
  },
  "language_info": {
   "codemirror_mode": {
    "name": "ipython",
    "version": 3
   },
   "file_extension": ".py",
   "mimetype": "text/x-python",
   "name": "python",
   "nbconvert_exporter": "python",
   "pygments_lexer": "ipython3",
   "version": "3.5.2"
  },
  "widgets": {
   "state": {},
   "version": "1.1.2"
  }
 },
 "nbformat": 4,
 "nbformat_minor": 0
}
